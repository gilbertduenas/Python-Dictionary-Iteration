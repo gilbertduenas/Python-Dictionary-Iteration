{
  "nbformat": 4,
  "nbformat_minor": 0,
  "metadata": {
    "colab": {
      "name": "Python Dictionary Iteration.ipynb",
      "provenance": [],
      "authorship_tag": "ABX9TyMmJC9S/BdZbeDgurDufbty",
      "include_colab_link": true
    },
    "kernelspec": {
      "name": "python3",
      "display_name": "Python 3"
    },
    "accelerator": "GPU"
  },
  "cells": [
    {
      "cell_type": "markdown",
      "metadata": {
        "id": "view-in-github",
        "colab_type": "text"
      },
      "source": [
        "<a href=\"https://colab.research.google.com/github/gilbertduenas/Python-Dictionary-Iteration/blob/master/Python_Dictionary_Iteration.ipynb\" target=\"_parent\"><img src=\"https://colab.research.google.com/assets/colab-badge.svg\" alt=\"Open In Colab\"/></a>"
      ]
    },
    {
      "cell_type": "code",
      "metadata": {
        "id": "VfU-U8I4sq25",
        "colab_type": "code",
        "colab": {}
      },
      "source": [
        "#What would be the output of the following code snippet?\n",
        "\n",
        "a_dict = {'color': 'blue', 'fruit': 'apple', 'pet': 'dog'}\n",
        "for key in a_dict:\n",
        "    print(key)"
      ],
      "execution_count": null,
      "outputs": []
    },
    {
      "cell_type": "code",
      "metadata": {
        "id": "iDBElgP7stMu",
        "colab_type": "code",
        "colab": {}
      },
      "source": [
        "#What would be the output of the following code snippet?\n",
        "\n",
        "a_dict = {'color': 'blue', 'fruit': 'apple', 'pet': 'dog'}\n",
        "d_items = a_dict.items()\n",
        "print(d_items)"
      ],
      "execution_count": null,
      "outputs": []
    },
    {
      "cell_type": "code",
      "metadata": {
        "id": "M2ahFL0Is5RN",
        "colab_type": "code",
        "colab": {}
      },
      "source": [
        "a_dict = {'color': 'blue', 'fruit': 'apple', 'pet': 'dog'}"
      ],
      "execution_count": null,
      "outputs": []
    },
    {
      "cell_type": "code",
      "metadata": {
        "id": "72QLDAaCeXRs",
        "colab_type": "code",
        "colab": {}
      },
      "source": [
        "a_dict.values()"
      ],
      "execution_count": null,
      "outputs": []
    },
    {
      "cell_type": "code",
      "metadata": {
        "id": "SjKf7Uz4ea1a",
        "colab_type": "code",
        "colab": {}
      },
      "source": [
        "for value in a_dict.values():\n",
        "    print(value)\n"
      ],
      "execution_count": null,
      "outputs": []
    },
    {
      "cell_type": "code",
      "metadata": {
        "id": "fRrmaMT_eka4",
        "colab_type": "code",
        "colab": {}
      },
      "source": [
        "# Python 3. dict.keys() returns a view object, not a list\n",
        "prices = {'apple': 0.40, 'orange': 0.35, 'banana': 0.25}\n",
        "for key in prices.keys():\n",
        "    if key == 'orange':\n",
        "        del prices[key]"
      ],
      "execution_count": null,
      "outputs": []
    },
    {
      "cell_type": "code",
      "metadata": {
        "id": "eTaH4fp-epwK",
        "colab_type": "code",
        "colab": {}
      },
      "source": [
        "a_dict = {'one': 1, 'two': 2, 'thee': 3, 'four': 4}\n",
        "new_dict = {}\n",
        "for key, value in a_dict.items():\n",
        "    new_dict[value] = key"
      ],
      "execution_count": null,
      "outputs": []
    },
    {
      "cell_type": "code",
      "metadata": {
        "id": "ieBkkMOFezGw",
        "colab_type": "code",
        "colab": {}
      },
      "source": [
        "new_dict"
      ],
      "execution_count": null,
      "outputs": []
    },
    {
      "cell_type": "code",
      "metadata": {
        "id": "JxPmGiPEe09_",
        "colab_type": "code",
        "colab": {}
      },
      "source": [
        "a_dict = {'one': 1, 'two': 2, 'thee': 3, 'four': 4}\n",
        "new_dict = {} \n",
        "for key, value in a_dict.items():\n",
        "    if value <= 2:\n",
        "        new_dict[key] = value"
      ],
      "execution_count": null,
      "outputs": []
    },
    {
      "cell_type": "code",
      "metadata": {
        "id": "OPR8OYYFe4I7",
        "colab_type": "code",
        "colab": {}
      },
      "source": [
        "new_dict"
      ],
      "execution_count": null,
      "outputs": []
    },
    {
      "cell_type": "code",
      "metadata": {
        "id": "qxsaMJBKe6_L",
        "colab_type": "code",
        "colab": {}
      },
      "source": [
        "incomes = {'apple': 5600.00, 'orange': 3500.00, 'banana': 5000.00}\n",
        "total_income = 0.00\n",
        "for value in incomes.values():\n",
        "    total_income += value"
      ],
      "execution_count": null,
      "outputs": []
    },
    {
      "cell_type": "code",
      "metadata": {
        "id": "f7B2uwjDfClh",
        "colab_type": "code",
        "colab": {}
      },
      "source": [
        "total_income"
      ],
      "execution_count": null,
      "outputs": []
    },
    {
      "cell_type": "code",
      "metadata": {
        "id": "YQ9vqHUKfJ8l",
        "colab_type": "code",
        "colab": {}
      },
      "source": [
        "objects = ['blue', 'apple', 'dog']\n",
        "categories = ['color', 'fruit', 'pet']\n",
        "a_dict = {key: value for key, value in zip(categories, objects)}"
      ],
      "execution_count": null,
      "outputs": []
    },
    {
      "cell_type": "code",
      "metadata": {
        "id": "g23b4wenfWu1",
        "colab_type": "code",
        "colab": {}
      },
      "source": [
        "a_dict"
      ],
      "execution_count": null,
      "outputs": []
    },
    {
      "cell_type": "code",
      "metadata": {
        "id": "T2MIGk2yfdFX",
        "colab_type": "code",
        "colab": {}
      },
      "source": [
        "a_dict = {'one': 1, 'two': 2, 'thee': 3, 'four': 4}\n",
        "new_dict = {k: v for k, v in a_dict.items() if v <= 2}"
      ],
      "execution_count": null,
      "outputs": []
    },
    {
      "cell_type": "code",
      "metadata": {
        "id": "fl2mgeMKfgVv",
        "colab_type": "code",
        "colab": {}
      },
      "source": [
        "new_dict"
      ],
      "execution_count": null,
      "outputs": []
    },
    {
      "cell_type": "code",
      "metadata": {
        "id": "zGo_UYV3fiHK",
        "colab_type": "code",
        "colab": {}
      },
      "source": [
        "a_dict = {'one': 1, 'two': 2, 'thee': 3, 'four': 4}\n",
        "new_dict = {value: key for key, value in a_dict.items()}"
      ],
      "execution_count": null,
      "outputs": []
    },
    {
      "cell_type": "code",
      "metadata": {
        "id": "ydez8QVnfnU_",
        "colab_type": "code",
        "colab": {}
      },
      "source": [
        "new_dict"
      ],
      "execution_count": null,
      "outputs": []
    },
    {
      "cell_type": "code",
      "metadata": {
        "id": "wZuVqLJTforB",
        "colab_type": "code",
        "colab": {}
      },
      "source": [
        ""
      ],
      "execution_count": null,
      "outputs": []
    }
  ]
}